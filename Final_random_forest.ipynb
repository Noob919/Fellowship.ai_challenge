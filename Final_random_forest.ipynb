{
  "nbformat": 4,
  "nbformat_minor": 0,
  "metadata": {
    "colab": {
      "name": "Final_random_forest.ipynb",
      "provenance": [],
      "authorship_tag": "ABX9TyOkUXuq6UhiUSp3ka2u+h1k",
      "include_colab_link": true
    },
    "kernelspec": {
      "name": "python3",
      "display_name": "Python 3"
    },
    "language_info": {
      "name": "python"
    }
  },
  "cells": [
    {
      "cell_type": "markdown",
      "metadata": {
        "id": "view-in-github",
        "colab_type": "text"
      },
      "source": [
        "<a href=\"https://colab.research.google.com/github/Noob919/Fellowship.ai_challenge/blob/main/Final_random_forest.ipynb\" target=\"_parent\"><img src=\"https://colab.research.google.com/assets/colab-badge.svg\" alt=\"Open In Colab\"/></a>"
      ]
    },
    {
      "cell_type": "code",
      "execution_count": 27,
      "metadata": {
        "id": "Qdg09VQCXGg3"
      },
      "outputs": [],
      "source": [
        "import numpy as np\n",
        "import pandas as pd\n",
        "import matplotlib.pyplot as plt\n",
        "import seaborn as sns\n",
        "import math\n",
        "from sklearn.preprocessing import Normalizer\n",
        "from sklearn.metrics import r2_score \n",
        "from sklearn.metrics import mean_squared_error, mean_absolute_error,mean_absolute_percentage_error\n",
        "from sklearn.ensemble import RandomForestRegressor"
      ]
    },
    {
      "cell_type": "code",
      "source": [
        "train_set = pd.read_excel(\"/content/train_data.xlsx\")\n",
        "train_features = train_set[['Time', 'Dose', 'pH','Efficacy']]\n",
        "train_features = Normalizer().fit_transform(train_features)\n",
        "X = train_features[:,0:3]\n",
        "y = train_features[:,3:]"
      ],
      "metadata": {
        "id": "copWeE-9XK_m"
      },
      "execution_count": 4,
      "outputs": []
    },
    {
      "cell_type": "code",
      "source": [
        "rfr = RandomForestRegressor(n_estimators=200)"
      ],
      "metadata": {
        "id": "WZuKVaXVXXjM"
      },
      "execution_count": 6,
      "outputs": []
    },
    {
      "cell_type": "code",
      "source": [
        "rfr.fit(X,y)"
      ],
      "metadata": {
        "colab": {
          "base_uri": "https://localhost:8080/"
        },
        "id": "cQfbkIf-Xrqg",
        "outputId": "b4110b9f-f566-468a-b352-1b546b7dc88d"
      },
      "execution_count": 8,
      "outputs": [
        {
          "output_type": "stream",
          "name": "stderr",
          "text": [
            "/usr/local/lib/python3.7/dist-packages/ipykernel_launcher.py:1: DataConversionWarning: A column-vector y was passed when a 1d array was expected. Please change the shape of y to (n_samples,), for example using ravel().\n",
            "  \"\"\"Entry point for launching an IPython kernel.\n"
          ]
        },
        {
          "output_type": "execute_result",
          "data": {
            "text/plain": [
              "RandomForestRegressor(n_estimators=200)"
            ]
          },
          "metadata": {},
          "execution_count": 8
        }
      ]
    },
    {
      "cell_type": "code",
      "source": [
        "test_set = pd.read_csv(\"/content/test_set.csv\")\n",
        "test_features = Normalizer().fit_transform(test_set)\n",
        "X_test = test_features[:,0:3]\n",
        "y_test = test_features[:,3:]"
      ],
      "metadata": {
        "id": "2kEtT_D-XxbL"
      },
      "execution_count": 9,
      "outputs": []
    },
    {
      "cell_type": "code",
      "source": [
        "df_sq = test_set*test_set\n",
        "df_sum = df_sq.sum(axis=1)\n",
        "root =  pd.Series(data  = df_sum)\n",
        "root = np.power(root, 0.5)"
      ],
      "metadata": {
        "id": "vMrky7DPX84M"
      },
      "execution_count": 10,
      "outputs": []
    },
    {
      "cell_type": "code",
      "source": [
        "Pred  = rfr.predict(X_test)"
      ],
      "metadata": {
        "id": "0rOJzuQwYCj_"
      },
      "execution_count": 12,
      "outputs": []
    },
    {
      "cell_type": "code",
      "source": [
        "mean_squared_error(y_test,Pred)"
      ],
      "metadata": {
        "colab": {
          "base_uri": "https://localhost:8080/"
        },
        "id": "-qB3b-ivYHNu",
        "outputId": "3d067b39-fa5a-468c-ec99-b3d5bb1e945e"
      },
      "execution_count": 13,
      "outputs": [
        {
          "output_type": "execute_result",
          "data": {
            "text/plain": [
              "3.883132273253155e-05"
            ]
          },
          "metadata": {},
          "execution_count": 13
        }
      ]
    },
    {
      "cell_type": "code",
      "source": [
        "math.sqrt(mean_squared_error(y_test,Pred))"
      ],
      "metadata": {
        "colab": {
          "base_uri": "https://localhost:8080/"
        },
        "id": "pxvxtDyaYK99",
        "outputId": "b85eca2e-ba5f-4d5e-f196-223ce888d041"
      },
      "execution_count": 14,
      "outputs": [
        {
          "output_type": "execute_result",
          "data": {
            "text/plain": [
              "0.00623147837455379"
            ]
          },
          "metadata": {},
          "execution_count": 14
        }
      ]
    },
    {
      "cell_type": "code",
      "source": [
        "mean_absolute_error(y_test,Pred)"
      ],
      "metadata": {
        "colab": {
          "base_uri": "https://localhost:8080/"
        },
        "id": "3xdT2jrPYOqU",
        "outputId": "c62cc487-9aa1-48e8-b75f-5c2711f740e5"
      },
      "execution_count": 15,
      "outputs": [
        {
          "output_type": "execute_result",
          "data": {
            "text/plain": [
              "0.004795748592804787"
            ]
          },
          "metadata": {},
          "execution_count": 15
        }
      ]
    },
    {
      "cell_type": "code",
      "source": [
        "r2_score(y_test,Pred)"
      ],
      "metadata": {
        "colab": {
          "base_uri": "https://localhost:8080/"
        },
        "id": "FhWd-WsaYT9l",
        "outputId": "f3ca2834-3350-4f54-a789-7fc7b5753310"
      },
      "execution_count": 16,
      "outputs": [
        {
          "output_type": "execute_result",
          "data": {
            "text/plain": [
              "0.9835595773650553"
            ]
          },
          "metadata": {},
          "execution_count": 16
        }
      ]
    },
    {
      "cell_type": "code",
      "source": [
        "mean_absolute_percentage_error(y_test, Pred)"
      ],
      "metadata": {
        "colab": {
          "base_uri": "https://localhost:8080/"
        },
        "id": "pvGtZaz6oDOs",
        "outputId": "6af8f95e-d5bb-46e9-f396-db4853f87ddc"
      },
      "execution_count": 29,
      "outputs": [
        {
          "output_type": "execute_result",
          "data": {
            "text/plain": [
              "0.005412431821157687"
            ]
          },
          "metadata": {},
          "execution_count": 29
        }
      ]
    },
    {
      "cell_type": "code",
      "source": [
        "X_test  = pd.DataFrame(X_test)\n",
        "y_test = pd.DataFrame(y_test)\n",
        "Final_actual = pd.concat([X_test,y_test], axis=1)\n",
        "Final_actual.columns = ['Time', 'Dose','pH','Efficacy']\n",
        "prediction = pd.DataFrame(Pred)"
      ],
      "metadata": {
        "id": "Ak-CvZxZYXio"
      },
      "execution_count": 18,
      "outputs": []
    },
    {
      "cell_type": "code",
      "source": [
        "pred = []\n",
        "for i in range(len(prediction)):\n",
        "    p = prediction.iloc[i]*root[i]\n",
        "    pred.append(p)"
      ],
      "metadata": {
        "id": "7UVQ_4aiYjPu"
      },
      "execution_count": 19,
      "outputs": []
    },
    {
      "cell_type": "code",
      "source": [
        "pred"
      ],
      "metadata": {
        "colab": {
          "base_uri": "https://localhost:8080/"
        },
        "id": "P-YBla2gYtMV",
        "outputId": "98fb020e-8a24-4ab2-b680-f25ccaac3015"
      },
      "execution_count": 20,
      "outputs": [
        {
          "output_type": "execute_result",
          "data": {
            "text/plain": [
              "[0    14.991449\n",
              " Name: 0, dtype: float64, 0    47.61448\n",
              " Name: 1, dtype: float64, 0    16.728096\n",
              " Name: 2, dtype: float64, 0    20.01787\n",
              " Name: 3, dtype: float64, 0    14.137615\n",
              " Name: 4, dtype: float64, 0    11.005288\n",
              " Name: 5, dtype: float64, 0    15.776173\n",
              " Name: 6, dtype: float64, 0    46.963592\n",
              " Name: 7, dtype: float64, 0    69.835902\n",
              " Name: 8, dtype: float64, 0    55.269269\n",
              " Name: 9, dtype: float64, 0    50.164047\n",
              " Name: 10, dtype: float64, 0    62.706997\n",
              " Name: 11, dtype: float64, 0    89.745908\n",
              " Name: 12, dtype: float64, 0    66.640737\n",
              " Name: 13, dtype: float64, 0    73.552762\n",
              " Name: 14, dtype: float64, 0    54.874153\n",
              " Name: 15, dtype: float64]"
            ]
          },
          "metadata": {},
          "execution_count": 20
        }
      ]
    },
    {
      "cell_type": "code",
      "source": [
        "x = test_set['Efficacy']\n",
        "y = [14.991449,47.61448,16.728096,20.01787,14.137615,11.005288,15.776173,46.963592,69.835902,55.269269,50.164047,62.706997,89.745908,66.640737,73.552762,54.874153]\n",
        "a,b = np.polyfit(x,y,1)\n",
        "sns.scatterplot(x, y ,color = 'purple', label = 'Predicted Values')\n",
        "plt.plot(x, a*x+b, color='steelblue', label = 'Best Fit') \n",
        "plt.xlabel('Targets')\n",
        "plt.ylabel('Outputs')\n",
        "plt.legend()"
      ],
      "metadata": {
        "colab": {
          "base_uri": "https://localhost:8080/",
          "height": 351
        },
        "id": "_PZ5jkvJYudX",
        "outputId": "ae72d02d-fdfc-40ff-d566-f9bb9c5ab353"
      },
      "execution_count": 23,
      "outputs": [
        {
          "output_type": "stream",
          "name": "stderr",
          "text": [
            "/usr/local/lib/python3.7/dist-packages/seaborn/_decorators.py:43: FutureWarning: Pass the following variables as keyword args: x, y. From version 0.12, the only valid positional argument will be `data`, and passing other arguments without an explicit keyword will result in an error or misinterpretation.\n",
            "  FutureWarning\n"
          ]
        },
        {
          "output_type": "execute_result",
          "data": {
            "text/plain": [
              "<matplotlib.legend.Legend at 0x7f2ba5c18650>"
            ]
          },
          "metadata": {},
          "execution_count": 23
        },
        {
          "output_type": "display_data",
          "data": {
            "image/png": "[encoded data removed]",
            "text/plain": [
              "<Figure size 432x288 with 1 Axes>"
            ]
          },
          "metadata": {
            "needs_background": "light"
          }
        }
      ]
    },
    {
      "cell_type": "code",
      "source": [
        "print(a, b)"
      ],
      "metadata": {
        "colab": {
          "base_uri": "https://localhost:8080/"
        },
        "id": "Z4eVOXBAY1Eu",
        "outputId": "25aa2dd6-6565-419b-f0ed-4c48569e99d3"
      },
      "execution_count": 25,
      "outputs": [
        {
          "output_type": "stream",
          "name": "stdout",
          "text": [
            "-0.013696170793440014\n"
          ]
        }
      ]
    },
    {
      "cell_type": "code",
      "source": [
        ""
      ],
      "metadata": {
        "colab": {
          "base_uri": "https://localhost:8080/",
          "height": 165
        },
        "id": "8-A9Fd9Wn06_",
        "outputId": "e009c7df-81d6-4418-f166-57b754fe5948"
      },
      "execution_count": 26,
      "outputs": [
        {
          "output_type": "error",
          "ename": "NameError",
          "evalue": "ignored",
          "traceback": [
            "\u001b[0;31m---------------------------------------------------------------------------\u001b[0m",
            "\u001b[0;31mNameError\u001b[0m                                 Traceback (most recent call last)",
            "\u001b[0;32m<ipython-input-26-1a2ebad6e4e6>\u001b[0m in \u001b[0;36m<module>\u001b[0;34m()\u001b[0m\n\u001b[0;32m----> 1\u001b[0;31m \u001b[0mmean_absolute_percentage_error\u001b[0m\u001b[0;34m(\u001b[0m\u001b[0my_test\u001b[0m\u001b[0;34m,\u001b[0m \u001b[0mpred\u001b[0m\u001b[0;34m)\u001b[0m\u001b[0;34m\u001b[0m\u001b[0;34m\u001b[0m\u001b[0m\n\u001b[0m",
            "\u001b[0;31mNameError\u001b[0m: name 'mean_absolute_percentage_error' is not defined"
          ]
        }
      ]
    },
    {
      "cell_type": "code",
      "source": [
        "y= 1.1686382597905058*x + (-0.013696170793440014)"
      ],
      "metadata": {
        "id": "TiMlwAdplajB"
      },
      "execution_count": null,
      "outputs": []
    }
  ]
}