{
  "nbformat": 4,
  "nbformat_minor": 0,
  "metadata": {
    "colab": {
      "name": "EDA_on_test_set.ipynb",
      "provenance": [],
      "mount_file_id": "1l3I5GZGaLq-ewDUoFyuU4s1YCbTteRaz",
      "authorship_tag": "ABX9TyPJsGt094HYv6Srs+ehmpgQ",
      "include_colab_link": true
    },
    "kernelspec": {
      "name": "python3",
      "display_name": "Python 3"
    },
    "language_info": {
      "name": "python"
    }
  },
  "cells": [
    {
      "cell_type": "markdown",
      "metadata": {
        "id": "view-in-github",
        "colab_type": "text"
      },
      "source": [
        "<a href=\"https://colab.research.google.com/github/Noob919/Fellowship.ai_challenge/blob/main/EDA_on_test_set.ipynb\" target=\"_parent\"><img src=\"https://colab.research.google.com/assets/colab-badge.svg\" alt=\"Open In Colab\"/></a>"
      ]
    },
    {
      "cell_type": "code",
      "source": [
        "from google.colab import drive\n",
        "drive.mount(('/content/drive'))"
      ],
      "metadata": {
        "colab": {
          "base_uri": "https://localhost:8080/"
        },
        "id": "C71mnzZMRLsv",
        "outputId": "733c5de7-d0f3-4371-8759-27fd9b63d591"
      },
      "execution_count": 1,
      "outputs": [
        {
          "output_type": "stream",
          "name": "stdout",
          "text": [
            "Drive already mounted at /content/drive; to attempt to forcibly remount, call drive.mount(\"/content/drive\", force_remount=True).\n"
          ]
        }
      ]
    },
    {
      "cell_type": "markdown",
      "source": [
        "#Required libraries"
      ],
      "metadata": {
        "id": "eNLlmCgcp3yJ"
      }
    },
    {
      "cell_type": "code",
      "source": [
        "import numpy as np\n",
        "import pandas as pd\n",
        "import matplotlib.pyplot as plt\n",
        "import seaborn as sns\n",
        "import os\n",
        "import cv2\n",
        "from PIL import Image"
      ],
      "metadata": {
        "id": "6_Nad_gEF5fG"
      },
      "execution_count": 2,
      "outputs": []
    },
    {
      "cell_type": "code",
      "execution_count": 3,
      "metadata": {
        "id": "X1ePPz56E2oq"
      },
      "outputs": [],
      "source": [
        "isola = \"/content/drive/MyDrive/train/Isola\"\n",
        "Legacy = \"/content/drive/MyDrive/train/Legacy\"\n",
        "M8M10 = \"/content/drive/MyDrive/train/M8M10\"\n",
        "Reline = \"/content/drive/MyDrive/train/Reline\"\n",
        "Viper = \"/content/drive/MyDrive/train/Viper\"\n",
        "Xia = \"/content/drive/MyDrive/train/Xia\""
      ]
    },
    {
      "cell_type": "markdown",
      "source": [
        "A dictionary containing count of each class"
      ],
      "metadata": {
        "id": "g24bIq15qJaK"
      }
    },
    {
      "cell_type": "code",
      "source": [
        "number_classes = {'Isola': len(os.listdir(isola)),\n",
        "'Legacy': len(os.listdir(Legacy)),\n",
        "'M8M10': len(os.listdir(M8M10)),\n",
        "'Reline': len(os.listdir(Reline)),\n",
        "'Viper': len(os.listdir(Viper)),\n",
        "'Xia': len(os.listdir(Xia))}\n"
      ],
      "metadata": {
        "id": "jP1Xzpi8F3nZ"
      },
      "execution_count": 4,
      "outputs": []
    },
    {
      "cell_type": "markdown",
      "source": [
        "Barplot "
      ],
      "metadata": {
        "id": "jUHXMi6MqXvY"
      }
    },
    {
      "cell_type": "code",
      "source": [
        "x  = list(number_classes.keys())\n",
        "y = list(number_classes.values())\n",
        "sns.barplot(x= x, y=y);\n",
        "plt.title(\"Number of Images by Class\");\n",
        "plt.xlabel('Class Name');\n",
        "plt.ylabel('# Images');"
      ],
      "metadata": {
        "colab": {
          "base_uri": "https://localhost:8080/",
          "height": 295
        },
        "id": "f8wXJrUEHpFe",
        "outputId": "3b709575-c0de-45ce-b7ca-40ddbff6b9b6"
      },
      "execution_count": 6,
      "outputs": [
        {
          "output_type": "display_data",
          "data": {
            "image/png": "[encoded data removed]",
            "text/plain": [
              "<Figure size 432x288 with 1 Axes>"
            ]
          },
          "metadata": {
            "needs_background": "light"
          }
        }
      ]
    },
    {
      "cell_type": "markdown",
      "source": [
        "Shape of each image stored in a list then convert that list into dataframe for scatter plot"
      ],
      "metadata": {
        "id": "VDOPqqyXqky0"
      }
    },
    {
      "cell_type": "code",
      "source": [
        "class_isola = []\n",
        "filename_isola = os.listdir(\"/content/drive/MyDrive/train/Isola\")\n",
        "for img_name_isola in filename_isola:\n",
        "  file = os.path.join(\"/content/drive/MyDrive/train/Isola/\" + img_name_isola)\n",
        "  img = Image.open(file)\n",
        "  size =  img.size\n",
        "  class_isola.append(size)\n",
        "\n",
        "isola_size_df  = pd.DataFrame(class_isola)\n",
        "isola_size_df.columns = ['width', 'height']\n",
        "\n",
        "class_M = []\n",
        "filename_M = os.listdir(\"/content/drive/MyDrive/train/M8M10\")\n",
        "for img_name_M in filename_M:\n",
        "  file = os.path.join(\"/content/drive/MyDrive/train/M8M10/\"+ img_name_M)\n",
        "  img = Image.open(file)\n",
        "  size =  img.size\n",
        "  class_M.append(size)\n",
        "\n",
        "M8M10_size_df  = pd.DataFrame(class_M)\n",
        "M8M10_size_df.columns = ['width', 'height']\n",
        "\n",
        "\n",
        "class_legacy = []\n",
        "filename_legacy = os.listdir(\"/content/drive/MyDrive/train/Legacy\")\n",
        "for img_name_legacy in filename_legacy:\n",
        "  file = os.path.join(\"/content/drive/MyDrive/train/Legacy/\"+img_name_legacy)\n",
        "  img = Image.open(file)\n",
        "  size =  img.size\n",
        "  class_legacy.append(size)\n",
        "\n",
        "legacy_size_df  = pd.DataFrame(class_legacy)\n",
        "legacy_size_df.columns = ['width', 'height']\n",
        "\n",
        "class_Reline = []\n",
        "filename_reline = os.listdir(\"/content/drive/MyDrive/train/Reline\")\n",
        "for img_name_reline in filename_reline:\n",
        "  file = os.path.join(\"/content/drive/MyDrive/train/Reline/\"+ img_name_reline)\n",
        "  img = Image.open(file)\n",
        "  size =  img.size\n",
        "  class_Reline.append(size)\n",
        "\n",
        "reline_size_df  = pd.DataFrame(class_Reline)\n",
        "reline_size_df.columns = ['width', 'height']\n",
        "\n",
        "class_viper = []\n",
        "filename_viper = os.listdir(\"/content/drive/MyDrive/train/Viper\")\n",
        "for img_name_viper in filename_viper:\n",
        "  file = os.path.join(\"/content/drive/MyDrive/train/Viper/\"+ img_name_viper)\n",
        "  img = Image.open(file)\n",
        "  size =  img.size\n",
        "  class_viper.append(size)\n",
        "\n",
        "viper_size_df  = pd.DataFrame(class_viper)\n",
        "viper_size_df.columns = ['width', 'height']\n",
        "\n",
        "class_xia = []\n",
        "filename_xia = os.listdir(\"/content/drive/MyDrive/train/Xia\")\n",
        "for img_name_xia in filename_xia:\n",
        "  file = os.path.join(\"/content/drive/MyDrive/train/Xia/\"+ img_name_xia)\n",
        "  img = Image.open(file)\n",
        "  size =  img.size\n",
        "  class_xia.append(size)\n",
        "\n",
        "\n",
        "xia_size_df  = pd.DataFrame(class_xia)\n",
        "xia_size_df.columns = ['width', 'height']\n"
      ],
      "metadata": {
        "id": "2BN1bwrVktax"
      },
      "execution_count": 7,
      "outputs": []
    },
    {
      "cell_type": "markdown",
      "source": [
        "Scaterplot of dimension of each image"
      ],
      "metadata": {
        "id": "a9HubyPoq7yv"
      }
    },
    {
      "cell_type": "code",
      "source": [
        "plt.figure(figsize=(18,15))\n",
        "plt.subplot(3,3,1)\n",
        "sns.scatterplot(x = isola_size_df['width'], y = isola_size_df['height'])\n",
        "plt.title('Image Sizes (pixels) | Class Isola')\n",
        "plt.subplot(3,3,2)\n",
        "sns.scatterplot(x = legacy_size_df['width'], y = legacy_size_df['height'])\n",
        "plt.title('Image Sizes (pixels) | Class Legacy')\n",
        "plt.subplot(3,3,3)\n",
        "sns.scatterplot(x = M8M10_size_df['width'], y = M8M10_size_df['height'])\n",
        "plt.title('Image Sizes (pixels) | Class M8M10')\n",
        "plt.subplot(3,3,4)\n",
        "sns.scatterplot(x = reline_size_df['width'], y = reline_size_df['height'])\n",
        "plt.title('Image Sizes (pixels) | Class Reline')\n",
        "plt.subplot(3,3,5)\n",
        "sns.scatterplot(x = viper_size_df['width'], y = viper_size_df['height'])\n",
        "plt.title('Image Sizes (pixels) | Class Viper')\n",
        "plt.subplot(3,3,6)\n",
        "sns.scatterplot(x = xia_size_df['width'], y = xia_size_df['height'])\n",
        "plt.title('Image Sizes (pixels) | Class Xia')\n"
      ],
      "metadata": {
        "colab": {
          "base_uri": "https://localhost:8080/",
          "height": 623
        },
        "id": "wP7o0GryvfN4",
        "outputId": "77d9e69a-f4a5-44d1-d3b9-36873c6ec523"
      },
      "execution_count": 8,
      "outputs": [
        {
          "output_type": "execute_result",
          "data": {
            "text/plain": [
              "Text(0.5, 1.0, 'Image Sizes (pixels) | Class Xia')"
            ]
          },
          "metadata": {},
          "execution_count": 8
        },
        {
          "output_type": "display_data",
          "data": {
            "image/png": "[encoded data removed]",
            "text/plain": [
              "<Figure size 1296x1080 with 6 Axes>"
            ]
          },
          "metadata": {
            "needs_background": "light"
          }
        }
      ]
    },
    {
      "cell_type": "code",
      "source": [
        "categories = os.listdir(\"/content/drive/MyDrive/train/\")"
      ],
      "metadata": {
        "id": "tKu6G7Q67m_k"
      },
      "execution_count": 9,
      "outputs": []
    },
    {
      "cell_type": "code",
      "source": [
        "categories"
      ],
      "metadata": {
        "colab": {
          "base_uri": "https://localhost:8080/"
        },
        "id": "BLhRLyTx78Vz",
        "outputId": "c3af113c-dc84-4745-c7d2-fe4b65082c3e"
      },
      "execution_count": 10,
      "outputs": [
        {
          "output_type": "execute_result",
          "data": {
            "text/plain": [
              "['Xia', 'M8M10', 'Isola', 'Legacy', 'Viper', 'Reline']"
            ]
          },
          "metadata": {},
          "execution_count": 10
        }
      ]
    },
    {
      "cell_type": "code",
      "source": [
        "# Converting all images into jpg\n",
        "def PNG_to_JPG(path):\n",
        " org_data=[]\n",
        " for category in categories:\n",
        "   image_list=[]\n",
        "   folder_path=os.path.join(path,category)\n",
        "   img_names=os.listdir(folder_path)\n",
        "   #change the extension of all images to jpg\n",
        "   for img_name in img_names:\n",
        "     filename=img_name[:-3]\n",
        "     extension=img_name[-3:]\n",
        "     img_path=os.path.join(folder_path,img_name)\n",
        "     img=cv2.imread(img_path)\n",
        "     if extension !='jpg':\n",
        "       img_name=filename +\".jpg\"\n",
        "       cv2.imwrite(img_name,img)\n",
        "     org_data.append(img)\n",
        "    \n",
        " return(org_data)"
      ],
      "metadata": {
        "id": "jYxZ-Whh20P4"
      },
      "execution_count": 14,
      "outputs": []
    },
    {
      "cell_type": "code",
      "source": [
        "Images = PNG_to_JPG(\"/content/drive/MyDrive/train/\")"
      ],
      "metadata": {
        "id": "RcYssnEg7Kzf"
      },
      "execution_count": 15,
      "outputs": []
    },
    {
      "cell_type": "markdown",
      "source": [
        "Normalizing all the images in the train set"
      ],
      "metadata": {
        "id": "jgbt20-krF3z"
      }
    },
    {
      "cell_type": "code",
      "source": [
        "def normalize(image_set):\n",
        "  normalized = [img/255 for img in image_set]\n",
        "  return normalized"
      ],
      "metadata": {
        "id": "nV-iUZym0O4t"
      },
      "execution_count": 16,
      "outputs": []
    },
    {
      "cell_type": "markdown",
      "source": [
        "Shape of first image"
      ],
      "metadata": {
        "id": "6ZZZLZiQrLRg"
      }
    },
    {
      "cell_type": "code",
      "source": [
        "normalize_images = normalize(Images)\n",
        "normalize_images = np.array(normalize_images)\n",
        "normalize_images[0].shape"
      ],
      "metadata": {
        "id": "L0C1wteS0Oyx",
        "colab": {
          "base_uri": "https://localhost:8080/"
        },
        "outputId": "910bb1ee-a0be-4c02-c022-f9f856cf2a46"
      },
      "execution_count": 17,
      "outputs": [
        {
          "output_type": "stream",
          "name": "stderr",
          "text": [
            "/usr/local/lib/python3.7/dist-packages/ipykernel_launcher.py:2: VisibleDeprecationWarning: Creating an ndarray from ragged nested sequences (which is a list-or-tuple of lists-or-tuples-or ndarrays with different lengths or shapes) is deprecated. If you meant to do this, you must specify 'dtype=object' when creating the ndarray\n",
            "  \n"
          ]
        },
        {
          "output_type": "execute_result",
          "data": {
            "text/plain": [
              "(600, 472, 3)"
            ]
          },
          "metadata": {},
          "execution_count": 17
        }
      ]
    },
    {
      "cell_type": "code",
      "source": [
        ""
      ],
      "metadata": {
        "id": "67XA7d7SpsoC"
      },
      "execution_count": null,
      "outputs": []
    }
  ]
}